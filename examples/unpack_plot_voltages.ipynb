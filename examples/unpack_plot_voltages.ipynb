{
 "cells": [
  {
   "cell_type": "code",
   "execution_count": 1,
   "metadata": {},
   "outputs": [],
   "source": [
    "from scapy.all import rdpcap, UDP #pip install scapy\n",
    "import numpy as np\n",
    "import matplotlib.pyplot as plt\n",
    "import struct"
   ]
  },
  {
   "cell_type": "markdown",
   "metadata": {},
   "source": [
    "# UDP packet parameters"
   ]
  },
  {
   "cell_type": "code",
   "execution_count": 2,
   "metadata": {},
   "outputs": [],
   "source": [
    "NCHANS = 256 # Channels per packet\n",
    "NPOL = 2 # Polarizations\n",
    "NSPEC_PER_PKT = 16 # Time specs (t0..tn) per packet.\n",
    "center_channel = 2048  # From the SNAP controllers, channel # 2048 represents sky frequency\n"
   ]
  },
  {
   "cell_type": "markdown",
   "metadata": {},
   "source": [
    "# User-Configurable Parameters"
   ]
  },
  {
   "cell_type": "code",
   "execution_count": 3,
   "metadata": {},
   "outputs": [],
   "source": [
    "sky_freq = 1690e6\n",
    "NCHAN_START = 1792\n",
    "number_of_channels=1024\n",
    "SNAP_sample_rate = 900e6 # For 1.8 GHz this will be 900 MHz.\n"
   ]
  },
  {
   "cell_type": "markdown",
   "metadata": {},
   "source": [
    "# Calc Params Based on User Config"
   ]
  },
  {
   "cell_type": "code",
   "execution_count": 4,
   "metadata": {},
   "outputs": [],
   "source": [
    "channel_width = SNAP_sample_rate/4096\n",
    "NCHAN_END = NCHAN_START + number_of_channels - 1\n",
    "NTOTAL = number_of_channels // 256 #total number of channel blocks \n",
    "start_freq = sky_freq - (center_channel-NCHAN_START)*channel_width"
   ]
  },
  {
   "cell_type": "markdown",
   "metadata": {},
   "source": [
    "# Unpack and plot some"
   ]
  },
  {
   "cell_type": "code",
   "execution_count": 5,
   "metadata": {},
   "outputs": [],
   "source": [
    "fname = './goes17_volt_synced.pcap'\n",
    "npackets = 5000 # packets to read from pcap file\n",
    "\n",
    "packets = rdpcap(fname, count=npackets)"
   ]
  },
  {
   "cell_type": "code",
   "execution_count": null,
   "metadata": {
    "scrolled": true
   },
   "outputs": [],
   "source": [
    "start_capture = 0\n",
    "volt_x = []\n",
    "volt_y = []\n",
    "\n",
    "volt_x_tmp = np.zeros((NSPEC_PER_PKT, NTOTAL*NCHANS), dtype=np.complex64)\n",
    "volt_y_tmp = np.zeros((NSPEC_PER_PKT, NTOTAL*NCHANS), dtype=np.complex64)\n",
    "\n",
    "expected_chan_n = NCHAN_START\n",
    "\n",
    "for i in range(npackets):   \n",
    "    pkt = bytes(packets[i][UDP].payload)\n",
    "    pkt_hdr = pkt[:8]\n",
    "    pkt_data = pkt[8:]\n",
    "    \n",
    "    # unpack header\n",
    "    t = struct.unpack(\">Q\", pkt_hdr)[0] # \">Q\" => big-endian uint64\n",
    "    version_n = (t >> 56) & 0xFF\n",
    "    sample_n = (t >> 18) & 0x3fffffffff\n",
    "    chan_n = (t >> 6) & 0x0FFF\n",
    "    ant_n = t & 0x3F\n",
    "    \n",
    "    # The very first packet to ingest, make sure it's the \n",
    "    # first channel number\n",
    "    if not start_capture: \n",
    "        if chan_n != NCHAN_START:\n",
    "            continue\n",
    "        else:\n",
    "            start_capture = 1\n",
    "            \n",
    "    \n",
    "    # unpack 4bit data and reshape array\n",
    "    data = np.frombuffer(pkt_data, dtype=np.uint8)\n",
    "    data_real = (data >> 4).astype(np.int8)\n",
    "    data_imag = 1j*((data << 4) >> 4).astype(np.int8)\n",
    "\n",
    "        # Deal with signed two's complement values\n",
    "    for i in range(0,len(data_real)):\n",
    "        if data_real[i] > 7:\n",
    "            data_real[i] -= 16\n",
    "        if data_imag[i] > 7:\n",
    "            data_imag[i] -= 16j\n",
    "            \n",
    "    data = data_real + data_imag\n",
    "    data = data.reshape(-1, NCHANS, NPOL).astype(np.complex64)    \n",
    "    \n",
    "    # This is not clever, as it doesn't check for dropped packets\n",
    "    # but should do for now\n",
    "    if chan_n == NCHAN_START:\n",
    "        volt_x.append(volt_x_tmp.copy())\n",
    "        volt_y.append(volt_y_tmp.copy())\n",
    "        \n",
    "        volt_x_tmp[:] = 0.\n",
    "        volt_y_tmp[:] = 0.\n",
    "    \n",
    "    iband = (chan_n % NCHAN_START)//NCHANS # // enforces integer division in python3\n",
    "    volt_x_tmp[:,iband*NCHANS:(iband+1)*NCHANS] = data[:,:,0]\n",
    "    volt_y_tmp[:,iband*NCHANS:(iband+1)*NCHANS] = data[:,:,1]\n",
    "\n",
    "volt_x = np.concatenate(volt_x)\n",
    "volt_y = np.concatenate(volt_y)\n",
    "\n"
   ]
  },
  {
   "cell_type": "code",
   "execution_count": null,
   "metadata": {
    "scrolled": true
   },
   "outputs": [],
   "source": [
    "plt.figure()\n",
    "plt.imshow(np.abs(volt_x), interpolation='nearest', aspect='auto')\n",
    "plt.figure()\n",
    "plt.imshow(np.abs(volt_y), interpolation='nearest', aspect='auto')"
   ]
  },
  {
   "cell_type": "code",
   "execution_count": null,
   "metadata": {
    "scrolled": true
   },
   "outputs": [],
   "source": [
    "r_indices=range(NCHAN_START,(NCHAN_START+1024))\n",
    "indices=list(r_indices)\n",
    "\n",
    "freqs = []\n",
    "for i in range(0,1024):\n",
    "    cur_freq = start_freq + channel_width*i\n",
    "    freqs.append(cur_freq)\n",
    "\n",
    "plt.figure()\n",
    "plt.plot(freqs,np.abs(volt_x).sum(axis=0))\n",
    "plt.title(\"Xpol spectrum\")\n",
    "\n",
    "plt.figure()\n",
    "plt.plot(freqs,np.abs(volt_y).sum(axis=0))\n",
    "plt.title(\"Ypol spectrum\")"
   ]
  }
 ],
 "metadata": {
  "kernelspec": {
   "display_name": "Python 3",
   "language": "python",
   "name": "python3"
  },
  "language_info": {
   "codemirror_mode": {
    "name": "ipython",
    "version": 3
   },
   "file_extension": ".py",
   "mimetype": "text/x-python",
   "name": "python",
   "nbconvert_exporter": "python",
   "pygments_lexer": "ipython3",
   "version": "3.6.9"
  }
 },
 "nbformat": 4,
 "nbformat_minor": 4
}
